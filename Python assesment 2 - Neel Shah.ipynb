{
 "cells": [
  {
   "cell_type": "code",
   "execution_count": null,
   "id": "6124d13c",
   "metadata": {},
   "outputs": [],
   "source": [
    "##1 Get columns\n",
    "\n",
    "import csv\n",
    "    \n",
    "with open('C:\\\\Users\\\\Neel Shah\\\\Desktop\\\\covid_data.csv', 'r') as csv_file:\n",
    "    csv_reader = csv.reader(csv_file)\n",
    "\n",
    "    list1 = []\n",
    "\n",
    "    for line in csv_reader:\n",
    "        list1.append(line)\n",
    "        break\n",
    "print(list1[0])"
   ]
  },
  {
   "cell_type": "code",
   "execution_count": null,
   "id": "cc84b9f6",
   "metadata": {},
   "outputs": [],
   "source": [
    "##2 Number of columns\n",
    "\n",
    "def no_of_columns(list1):\n",
    "    count = 0\n",
    "    for i in list1:\n",
    "        count += 1\n",
    "    return count\n",
    "\n",
    "print(\"Number of columns :\", no_of_columns(list1[0]))"
   ]
  },
  {
   "cell_type": "code",
   "execution_count": 12,
   "id": "2f927854",
   "metadata": {},
   "outputs": [
    {
     "name": "stdout",
     "output_type": "stream",
     "text": [
      "Enrolling by invitation\n",
      "{'max_char': 23}\n"
     ]
    }
   ],
   "source": [
    "##3 Highest length of status column\n",
    "\n",
    "with open('C:\\\\Users\\\\Neel Shah\\\\Desktop\\\\covid_data.csv', 'r') as csv_file:\n",
    "    csv_reader = csv.reader(csv_file)\n",
    "    l =[]\n",
    "    d ={}\n",
    "    for line in csv_reader:\n",
    "        l.append(line[4])\n",
    "    max_char = max(l, key=len)\n",
    "    print(max_char)\n",
    "\n",
    "d[\"max_char\"] = len(max_char)\n",
    "print(d)"
   ]
  },
  {
   "cell_type": "code",
   "execution_count": 9,
   "id": "6be77fcd",
   "metadata": {},
   "outputs": [
    {
     "name": "stdout",
     "output_type": "stream",
     "text": [
      "Highest rank record val : 100\n"
     ]
    }
   ],
   "source": [
    "##4 Get highest rank record\n",
    "\n",
    "with open('C:\\\\Users\\\\Neel Shah\\\\Desktop\\\\covid_data.csv', 'r') as csv_file:\n",
    "    csv_reader = csv.reader(csv_file)\n",
    "    next(csv_reader)\n",
    "    m =[]\n",
    "    for line in csv_reader:\n",
    "        m.append(line[0])\n",
    "    \n",
    "print(\"Highest rank record val :\", max(m, key = len))\n"
   ]
  },
  {
   "cell_type": "markdown",
   "id": "6814edd2",
   "metadata": {},
   "source": [
    "##5 Write lowest and highest rank record to new file\n",
    "\n",
    "with open('C:\\\\Users\\\\Neel Shah\\\\Desktop\\\\covid_data.csv', 'r') as csv_file:\n",
    "    csv_reader = csv.reader(csv_file)\n",
    "    with open('C:\\\\Users\\\\Neel Shah\\\\Desktop\\\\covid_datamax.csv', 'w') as new_file:\n",
    "        csv_writer = csv.writer(new_file)\n",
    "\n",
    "\n",
    "        csv_writer.writerow(max(m))\n",
    "\n",
    "with open('C:\\\\Users\\\\Neel Shah\\\\Desktop\\\\covid_data.csv', 'r') as csv_file:\n",
    "    csv_reader = csv.reader(csv_file)\n",
    "    with open('C:\\\\Users\\\\Neel Shah\\\\Desktop\\\\covid_data2.csv', 'w') as min_file:\n",
    "        csv_writer = csv.writer(min_file)\n",
    "\n",
    "        csv_writer.writerow(min(m))"
   ]
  },
  {
   "cell_type": "code",
   "execution_count": 8,
   "id": "b6821256",
   "metadata": {},
   "outputs": [
    {
     "name": "stdout",
     "output_type": "stream",
     "text": [
      "Unique values in Gender column : ['All', 'Female', 'Male']\n"
     ]
    }
   ],
   "source": [
    "##6 Unique values in gender column\n",
    "with open('C:\\\\Users\\\\Neel Shah\\\\Desktop\\\\covid_data.csv', 'r') as csv_file:\n",
    "    csv_reader = csv.reader(csv_file)\n",
    "    next(csv_reader)\n",
    "    p = []\n",
    "    for line in csv_reader:\n",
    "        p.append(line[10])\n",
    "\n",
    "    unique_values = []\n",
    "    for i in p:\n",
    "        if i not in unique_values:\n",
    "            unique_values.append(i)\n",
    "print(\"Unique values in Gender column :\", unique_values)\n",
    "    "
   ]
  }
 ],
 "metadata": {
  "kernelspec": {
   "display_name": "Python 3 (ipykernel)",
   "language": "python",
   "name": "python3"
  },
  "language_info": {
   "codemirror_mode": {
    "name": "ipython",
    "version": 3
   },
   "file_extension": ".py",
   "mimetype": "text/x-python",
   "name": "python",
   "nbconvert_exporter": "python",
   "pygments_lexer": "ipython3",
   "version": "3.10.4"
  }
 },
 "nbformat": 4,
 "nbformat_minor": 5
}
