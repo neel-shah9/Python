{
 "cells": [
  {
   "cell_type": "markdown",
   "id": "016c41a5",
   "metadata": {},
   "source": [
    "#  1. Write a function that accept a string from the user and display characters that are present at an even index number and store them in a list."
   ]
  },
  {
   "cell_type": "code",
   "execution_count": 53,
   "id": "447d3367",
   "metadata": {},
   "outputs": [
    {
     "name": "stdout",
     "output_type": "stream",
     "text": [
      "Enter string : gathi python bootcamp!!\n",
      "['g', 't', 'i', 'p', 't', 'o', ' ', 'o', 't', 'a', 'p', '!']\n"
     ]
    }
   ],
   "source": [
    "##1 input_str = \"gathi python bootcamp!!\"\n",
    "# result_lst = ['g', 't', 'i', 'p', 't', 'o', ' ', 'o', 't', 'a', 'p', '!']\n",
    "\n",
    "def string_fun(str):\n",
    "    l = []\n",
    "    for i in range(len(str)):\n",
    "        if i % 2 == 0:\n",
    "            l.append(str[i])\n",
    "    print(l)\n",
    "\n",
    "x = input(\"Enter string : \")\n",
    "string_fun(x)"
   ]
  },
  {
   "cell_type": "markdown",
   "id": "2821571d",
   "metadata": {},
   "source": [
    "# 2. Write a function to return True if the first and last number of a given list is same. If numbers are different, then return False."
   ]
  },
  {
   "cell_type": "code",
   "execution_count": 34,
   "id": "b94bd53a",
   "metadata": {},
   "outputs": [
    {
     "data": {
      "text/plain": [
       "False"
      ]
     },
     "execution_count": 34,
     "metadata": {},
     "output_type": "execute_result"
    }
   ],
   "source": [
    "##2 Write a function to return True if the first and last number of a given list is same. If numbers are different, then return False.\n",
    "\n",
    "def first_last(l1):\n",
    "    if l1[0] == l1[(len(l1)) - 1]:\n",
    "        return True\n",
    "    else:\n",
    "        return False\n",
    "first_last([0,1,2,3,3])"
   ]
  },
  {
   "cell_type": "markdown",
   "id": "741b7b82",
   "metadata": {},
   "source": [
    "# 3. Write a program to find the count of words which starts with letter 'P' (both lowercase and uppercase)"
   ]
  },
  {
   "cell_type": "code",
   "execution_count": 35,
   "id": "4507fa3d",
   "metadata": {},
   "outputs": [
    {
     "name": "stdout",
     "output_type": "stream",
     "text": [
      "['python', 'is', 'a', 'high-level,', 'interpreted,', 'general-purpose', 'programming', 'language.']\n",
      "Output Count : 2\n"
     ]
    }
   ],
   "source": [
    "##3 \n",
    "input_str = \"Python is a high-level, interpreted, general-purpose programming language.\"\n",
    "\n",
    "x = input_str.lower()\n",
    "\n",
    "y = x.split(\" \")\n",
    "print(y)\n",
    "output_count = 0\n",
    "for i in y:\n",
    "    if i.startswith(\"p\"):\n",
    "        output_count += 1\n",
    "print(\"Output Count :\" , output_count)"
   ]
  },
  {
   "cell_type": "markdown",
   "id": "53d4fb26",
   "metadata": {},
   "source": [
    "# 4. Print following pattern"
   ]
  },
  {
   "cell_type": "code",
   "execution_count": 54,
   "id": "5af45ac4",
   "metadata": {},
   "outputs": [
    {
     "name": "stdout",
     "output_type": "stream",
     "text": [
      "Enter the row count : 5\n",
      "1\n",
      "22\n",
      "333\n",
      "4444\n",
      "55555\n"
     ]
    }
   ],
   "source": [
    "##4\n",
    "\n",
    "def num1(rows):\n",
    "    for i in range(1, rows + 1):\n",
    "        for j in range(i):\n",
    "            print(i, end = \"\")\n",
    "        print(\"\", end = \"\\n\")\n",
    "\n",
    "x = int(input(\"Enter the row count : \"))\n",
    "num1(x)\n"
   ]
  },
  {
   "cell_type": "markdown",
   "id": "c95f6468",
   "metadata": {},
   "source": [
    "# 5. Write a function to reverse the given list"
   ]
  },
  {
   "cell_type": "code",
   "execution_count": 25,
   "id": "328a29a7",
   "metadata": {},
   "outputs": [
    {
     "name": "stdout",
     "output_type": "stream",
     "text": [
      "Reversed List : [5, 4, 3, 2, 1]\n"
     ]
    }
   ],
   "source": [
    "##5 input_lst = [1,2,3,4,5]\n",
    "# output_lst = [5,4,3,2,1]\n",
    "\n",
    "\n",
    "def reverse_list(list1):\n",
    "    rev = list1[::-1]\n",
    "    print(\"Reversed List :\", rev)\n",
    "\n",
    "reverse_list([1,2,3,4,5])\n"
   ]
  },
  {
   "cell_type": "markdown",
   "id": "1a62c07d",
   "metadata": {},
   "source": [
    "# 6. Write a program to print \"I Love Python 100%\" from given tuple."
   ]
  },
  {
   "cell_type": "code",
   "execution_count": 24,
   "id": "0dd13646",
   "metadata": {},
   "outputs": [
    {
     "name": "stdout",
     "output_type": "stream",
     "text": [
      "I Love Python 100%\n"
     ]
    }
   ],
   "source": [
    "##6 Write a program to print \"I Love Python 100%\" from given tuple.\n",
    "\n",
    "t = ([10, 'a', 20, 'e', 30, 'i', 40, 'o', 50,'u'],( 60 , 'Love'),  70 , 'Python', 80, (90, 100), ['!','%'])\n",
    "\n",
    "print((t[0][5]).upper(), t[1][1], t[3], end = \" \")\n",
    "print(t[5][1], t[6][1], sep = \"\")"
   ]
  },
  {
   "cell_type": "markdown",
   "id": "02bfb567",
   "metadata": {},
   "source": [
    "# 7. Simplify below condition "
   ]
  },
  {
   "cell_type": "code",
   "execution_count": null,
   "id": "4a2f4451",
   "metadata": {},
   "outputs": [],
   "source": [
    "##7 if n == 0 or n == 1 or n == 2 or n == 3 or n == 4 or n == 5:\n"
   ]
  },
  {
   "cell_type": "markdown",
   "id": "385085f6",
   "metadata": {},
   "source": [
    "# 8. Write a program to calculate the sum of series up to n term. "
   ]
  },
  {
   "cell_type": "code",
   "execution_count": 23,
   "id": "74edf133",
   "metadata": {},
   "outputs": [
    {
     "name": "stdout",
     "output_type": "stream",
     "text": [
      "24690\n"
     ]
    }
   ],
   "source": [
    "##8\n",
    "\n",
    "n = 5\n",
    "sum = 0\n",
    "for i in range(1, n+1):\n",
    "    x = eval('2' * i)\n",
    "    sum = sum + x\n",
    "print(sum)"
   ]
  },
  {
   "cell_type": "markdown",
   "id": "25c728f4",
   "metadata": {},
   "source": [
    "# 9. CSV input file:\n",
    "     a.\tFind duplicate records and save them in different file named duplicates.csv\n",
    "     b.\tList the difference between the column names given and the columns names in the given file.\n"
   ]
  },
  {
   "cell_type": "code",
   "execution_count": 58,
   "id": "1b6723c6",
   "metadata": {},
   "outputs": [],
   "source": [
    "##9a \n",
    "import csv\n",
    "rows = []\n",
    "duplicates = []\n",
    "headers = []\n",
    "with open('C:\\\\Users\\\\Neel Shah\\\\Downloads\\\\covid_data1.csv', 'r') as csv_file:\n",
    "    csv_reader = csv.reader(csv_file)\n",
    "    headers = next(csv_reader)\n",
    "    \n",
    "    for i in csv_reader:\n",
    "        rows.append(i)\n",
    "# print(rows)\n",
    "    for i in rows:\n",
    "        if (rows.count(i) > 1) and (i not in duplicates):\n",
    "            duplicates.append(i)\n",
    "# print(duplicates)\n",
    "\n",
    "with open('C:\\\\Users\\\\Neel Shah\\\\Downloads\\\\duplicates.csv', 'w') as new_file:\n",
    "    csv_writer = csv.writer(new_file)\n",
    "    \n",
    "    csv_writer.writerow(headers)\n",
    "    csv_writer.writerow(duplicates)\n",
    "        "
   ]
  },
  {
   "cell_type": "code",
   "execution_count": null,
   "id": "826eb46f",
   "metadata": {},
   "outputs": [],
   "source": [
    "##9b\n",
    "\n",
    "with open('C:\\\\Users\\\\Neel Shah\\\\Downloads\\\\covid_data1.csv', 'r') as csv_file:\n",
    "    csv_reader = csv.reader(csv_file)\n",
    "    l = []\n",
    "    for i in csv_reader:\n",
    "        l.append(i)\n",
    "        break\n",
    "# print(\"Column list :\", l[0])\n",
    "\n",
    "l1 = ['Rank', 'NCT Number', 'Title', 'Acronym', 'Status', 'Study_Results', 'Conditions', 'Interventions', 'Outcome Measure', 'Sponsor_Collaborators', 'Gender', 'Age']\n",
    "\n",
    "# print(\"Given list: \", l1)\n",
    "\n",
    "list_diff = [i for i in l[0] + l1 if i not in l[0] or i not in l1]\n",
    "print(\"List Difference :\", list_diff)"
   ]
  },
  {
   "cell_type": "markdown",
   "id": "55f87011",
   "metadata": {},
   "source": [
    "# 10. Write a program that accepts a comma separated sequence of words as input and prints the words in a comma-separated sequence after sorting them alphabetically"
   ]
  },
  {
   "cell_type": "code",
   "execution_count": 22,
   "id": "f0d24f22",
   "metadata": {},
   "outputs": [
    {
     "name": "stdout",
     "output_type": "stream",
     "text": [
      "Enter a string : walking,hello,car,world\n",
      "car,hello,walking,world\n"
     ]
    }
   ],
   "source": [
    "##10 comma seprated input - sorted\n",
    "# Input = walking,hello,car,world\n",
    "\n",
    "def func(str):\n",
    "    l = str.split(\",\")\n",
    "    l1 = sorted(l)\n",
    "    str1 = \",\".join(l1)\n",
    "    return str1\n",
    "user_inpt = input(\"Enter a string : \")\n",
    "result = func(user_inpt)\n",
    "print(result)"
   ]
  },
  {
   "cell_type": "markdown",
   "id": "1433a086",
   "metadata": {},
   "source": [
    "# 11. Write a program that accepts a sentence and calculate the number of upper-case letters and lower-case letters."
   ]
  },
  {
   "cell_type": "code",
   "execution_count": 51,
   "id": "4976c451",
   "metadata": {},
   "outputs": [
    {
     "name": "stdout",
     "output_type": "stream",
     "text": [
      "{'UPPER_CASE': 1, 'LOWER_CASE': 9}\n"
     ]
    }
   ],
   "source": [
    "##11\n",
    "def count_func(str):\n",
    "    d = {\"UPPER_CASE\":0, \"LOWER_CASE\":0}\n",
    "    cnt_upper = 0\n",
    "    cnt_lower = 0\n",
    "    for i in str:\n",
    "        if i.isupper():\n",
    "            cnt_upper += 1\n",
    "            \n",
    "        elif i.islower():\n",
    "            cnt_lower += 1\n",
    "            \n",
    "    d[\"UPPER_CASE\"] = cnt_upper\n",
    "    d[\"LOWER_CASE\"] = cnt_lower\n",
    "    print(d)\n",
    "\n",
    "count_func('Hello world!')"
   ]
  },
  {
   "cell_type": "markdown",
   "id": "07889528",
   "metadata": {},
   "source": [
    "# 12. Write a function that takes a list of words and an integer n and returns the list of words that are longer than n. Use List Comprehension"
   ]
  },
  {
   "cell_type": "code",
   "execution_count": 11,
   "id": "1af99751",
   "metadata": {},
   "outputs": [
    {
     "data": {
      "text/plain": [
       "['hello', 'bye']"
      ]
     },
     "execution_count": 11,
     "metadata": {},
     "output_type": "execute_result"
    }
   ],
   "source": [
    "##12\n",
    "def list_compr(l,n):\n",
    "     return [x for x in l if len(x)>n]\n",
    "\n",
    "list_compr([\"hi\", \"hello\", \"bye\"], 2)"
   ]
  },
  {
   "cell_type": "markdown",
   "id": "0e3b583e",
   "metadata": {},
   "source": [
    "# 13. Define a function that takes three numbers as arguments and returns the largest of them"
   ]
  },
  {
   "cell_type": "code",
   "execution_count": 13,
   "id": "affe78b5",
   "metadata": {},
   "outputs": [
    {
     "name": "stdout",
     "output_type": "stream",
     "text": [
      "5\n"
     ]
    }
   ],
   "source": [
    "##13\n",
    "def maximumof_three(a, b, c):\n",
    "    if(a>=b) and (a>=c):\n",
    "        max = a\n",
    "    elif (b>=a) and (b>=c):\n",
    "        max = b\n",
    "    else:\n",
    "        max = c\n",
    "    return max\n",
    "\n",
    "a = 5\n",
    "b = 2\n",
    "c = 1\n",
    "print(maximumof_three(a, b, c))\n"
   ]
  },
  {
   "cell_type": "markdown",
   "id": "7074ad66",
   "metadata": {},
   "source": [
    "# 14. Write a program that maps a list of words into a list of integers representing the lengths of the corresponding words."
   ]
  },
  {
   "cell_type": "code",
   "execution_count": 21,
   "id": "eeb0081f",
   "metadata": {},
   "outputs": [
    {
     "name": "stdout",
     "output_type": "stream",
     "text": [
      "Using for loop :  [3, 4, 5, 4]\n",
      "Using map function :  [7, 8, 4]\n"
     ]
    }
   ],
   "source": [
    "##14a\n",
    "def maps_length(l1):\n",
    "    l2 = []\n",
    "    for i in l1:\n",
    "        x = len(i)\n",
    "        l2.append(x)\n",
    "    print(\"Using for loop : \", l2)\n",
    "\n",
    "maps_length(['red', 'blue', 'green', 'rock'])\n",
    "\n",
    "##14b\n",
    "def maps_func(str):\n",
    "    return len(str)\n",
    "\n",
    "x = list(map(maps_func, ['redgear', 'adapters', 'note'] ))\n",
    "print(\"Using map function : \", x )"
   ]
  }
 ],
 "metadata": {
  "kernelspec": {
   "display_name": "Python 3 (ipykernel)",
   "language": "python",
   "name": "python3"
  },
  "language_info": {
   "codemirror_mode": {
    "name": "ipython",
    "version": 3
   },
   "file_extension": ".py",
   "mimetype": "text/x-python",
   "name": "python",
   "nbconvert_exporter": "python",
   "pygments_lexer": "ipython3",
   "version": "3.10.4"
  }
 },
 "nbformat": 4,
 "nbformat_minor": 5
}
