{
 "cells": [
  {
   "cell_type": "code",
   "execution_count": 15,
   "id": "40ef052a",
   "metadata": {},
   "outputs": [
    {
     "name": "stdout",
     "output_type": "stream",
     "text": [
      "{'Length': 82, 'Special Characters': ['@', '#'], 'Repeated words': 'is', 'Palindromes': ['232', 'level'], 'Number_count': {'odd': 1, 'even': 1}}\n"
     ]
    }
   ],
   "source": [
    "def check_string(str1):\n",
    "    result={}\n",
    "    ## length of string \n",
    "    cnt = 0\n",
    "    for i in str1:\n",
    "        cnt += 1\n",
    "    result[\"Length\"] = cnt\n",
    "\n",
    "    ## print special characters present in the string\n",
    "\n",
    "    special_char=[]\n",
    "    for i in str1:\n",
    "        if i in ['!','@','#','$','%','^','&','*']:\n",
    "            special_char.append(i)\n",
    "    result[\"Special Characters\"]= special_char  \n",
    "    \n",
    "    ## Repeated words, specials characters and their counts - key, value pair\n",
    "    repeated_words = {}\n",
    "    words = str1.split(\" \")\n",
    "    for i in range(0, len(words)):\n",
    "        count = 1\n",
    "        for j in range(i+1, len(words)):\n",
    "            if(words[i] == words[j]):\n",
    "                count = count + 1\n",
    "                words[j] = 0\n",
    "        \n",
    "        if count > 1 and words[i] != 0:\n",
    "            repeated_words = words[i]\n",
    "    \n",
    "    result[\"Repeated words\"] = repeated_words\n",
    "    \n",
    "    ## Any palindrome (both numbers and words)\n",
    "    \n",
    "    pal=[]\n",
    "\n",
    "    l1 = str1.split(\" \")\n",
    "    for i in l1:\n",
    "        if i.isalpha() or i.isalnum():\n",
    "            if i == i[::-1]:\n",
    "                pal.append(i)\n",
    "    result[\"Palindromes\"]=pal            \n",
    "\n",
    "    ## Odd, even numbers and their counts - key, value pair\n",
    "    \n",
    "    import re\n",
    "    d1={}\n",
    "    d1[\"odd\"]=0\n",
    "    d1[\"even\"]=0\n",
    "    l2=str1.split(\" \")\n",
    "    for i in l2:\n",
    "        if re.search('\\D',i)==None: #check if the word contains only digits\n",
    "            if int(i)%2==0:\n",
    "                d1[\"even\"]+=1\n",
    "            else:\n",
    "                d1[\"odd\"]+=1\n",
    "    result[\"Number_count\"]=d1\n",
    "    \n",
    "    return result\n",
    "    \n",
    "    \n",
    "res = check_string(\"this is jupyter notebook 232 in addition @ this is python level #1 my number is 09\")    \n",
    "print(res)"
   ]
  },
  {
   "cell_type": "code",
   "execution_count": null,
   "id": "65c7391f",
   "metadata": {},
   "outputs": [],
   "source": []
  }
 ],
 "metadata": {
  "kernelspec": {
   "display_name": "Python 3 (ipykernel)",
   "language": "python",
   "name": "python3"
  },
  "language_info": {
   "codemirror_mode": {
    "name": "ipython",
    "version": 3
   },
   "file_extension": ".py",
   "mimetype": "text/x-python",
   "name": "python",
   "nbconvert_exporter": "python",
   "pygments_lexer": "ipython3",
   "version": "3.10.4"
  }
 },
 "nbformat": 4,
 "nbformat_minor": 5
}
